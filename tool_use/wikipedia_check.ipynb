{
 "cells": [
  {
   "cell_type": "markdown",
   "metadata": {},
   "source": [
    "# Exercise Overview\n",
    "\n",
    "This is the [exercise](https://github.com/anthropics/courses/blob/master/tool_use/02_your_first_simple_tool.ipynb) from the tool use course from Anthropic.\n",
    "\n",
    "Given a research topic, the Claude will generate a list of Wikipedia article titles that are relevant to the topic. But since Claude may hallucinate, we need to check the list with the `wikipedia` tool. If an artitle exisits, it will be added to a markdown file.\n",
    "\n",
    "**To let Claude only use tool when necessary, we need to pass the system prompt to Claude.**\n"
   ]
  },
  {
   "cell_type": "code",
   "execution_count": 2,
   "metadata": {},
   "outputs": [],
   "source": [
    "import wikipedia\n",
    "from anthropic import Anthropic\n",
    "\n",
    "client = Anthropic()"
   ]
  },
  {
   "cell_type": "code",
   "execution_count": 6,
   "metadata": {},
   "outputs": [],
   "source": [
    "wikipedia_reading_list_generator_tool = {\n",
    "    \"name\": \"wikipedia_reading_list_generator\",\n",
    "    \"description\": \"A tool that checks a list of article titles whether they exist in Wikipedia.\",\n",
    "    \"input_schema\": {\n",
    "        \"type\": \"object\",\n",
    "        \"properties\": {\n",
    "            \"article_titles\": {\n",
    "                \"type\": \"array\",\n",
    "                \"items\": {\n",
    "                    \"type\": \"string\",\n",
    "                    \"description\": \"The title of a Wikipedia article.\"\n",
    "                },\n",
    "                \"description\": \"The list of article titles that are relevant to the research topic.\"\n",
    "            },\n",
    "        },\n",
    "        \"required\": [\"article_titles\"]\n",
    "    }\n",
    "}"
   ]
  },
  {
   "cell_type": "code",
   "execution_count": 14,
   "metadata": {},
   "outputs": [],
   "source": [
    "def generate_wikipedia_reading_list(research_topic, article_titles):\n",
    "    wikipedia_articles = []\n",
    "    for t in article_titles:\n",
    "        results = wikipedia.search(t)\n",
    "        try:\n",
    "            page = wikipedia.page(results[0])\n",
    "            title = page.title\n",
    "            url = page.url\n",
    "            wikipedia_articles.append({\"title\": title, \"url\": url})\n",
    "        except:\n",
    "            continue\n",
    "    add_to_research_reading_file(wikipedia_articles, research_topic)\n",
    "\n",
    "def add_to_research_reading_file(articles, topic):\n",
    "    with open(\"output/research_reading.md\", \"a\", encoding=\"utf-8\") as file:\n",
    "        file.write(f\"## {topic} \\n\")\n",
    "        for article in articles:\n",
    "            title = article[\"title\"]\n",
    "            url = article[\"url\"]\n",
    "            file.write(f\"* [{title}]({url}) \\n\")\n",
    "        file.write(f\"\\n\\n\")\n",
    "        \n",
    "def get_research_help(topic, num_articles=3):\n",
    "    response = client.messages.create(\n",
    "        model=\"claude-3-haiku-20240307\",\n",
    "        system=\"You have access to tools, but only use them when necessary.  If a tool is not required, respond as normal\",\n",
    "        messages=[{\"role\": \"user\", \"content\":f\"generate {num_articles} wikipedia article reading list about {topic}\"}],\n",
    "        max_tokens=400,\n",
    "        tools=[wikipedia_reading_list_generator_tool]\n",
    "    )\n",
    "    print(response)\n",
    "    if response.stop_reason == \"tool_use\":\n",
    "        article_titles = response.content[-1].input[\"article_titles\"]\n",
    "        print(\"Claude generates tool use call\")\n",
    "        print(\"Article titles:\", article_titles)\n",
    "        generate_wikipedia_reading_list(topic, article_titles)\n",
    "    else:\n",
    "        print(\"Claude does not generate tool use call\")\n",
    "        print(\"Response:\", response.content[0].text)\n",
    "    "
   ]
  },
  {
   "cell_type": "code",
   "execution_count": 15,
   "metadata": {},
   "outputs": [
    {
     "name": "stdout",
     "output_type": "stream",
     "text": [
      "Message(id='msg_01SPivdTg4PiiQA3B9ihEsfs', content=[TextBlock(citations=None, text='Here is a Wikipedia reading list about Pirates Across The World:', type='text'), ToolUseBlock(id='toolu_01Rn7C2fkNXqJQZNKk75Xeeh', input={'article_titles': ['Pirates of the Caribbean', 'History of piracy', 'Golden Age of Piracy', 'Piracy in the Caribbean', 'Piracy in Southeast Asia', 'Piracy in Africa', 'Piracy in South America']}, name='wikipedia_reading_list_generator', type='tool_use')], model='claude-3-haiku-20240307', role='assistant', stop_reason='tool_use', stop_sequence=None, type='message', usage=Usage(cache_creation_input_tokens=0, cache_read_input_tokens=0, input_tokens=418, output_tokens=125, server_tool_use=None, service_tier='standard'))\n",
      "Claude generates tool use call\n",
      "Article titles: ['Pirates of the Caribbean', 'History of piracy', 'Golden Age of Piracy', 'Piracy in the Caribbean', 'Piracy in Southeast Asia', 'Piracy in Africa', 'Piracy in South America']\n"
     ]
    }
   ],
   "source": [
    "get_research_help(\"Pirates Across The World\", 7)"
   ]
  },
  {
   "cell_type": "code",
   "execution_count": 16,
   "metadata": {},
   "outputs": [
    {
     "name": "stdout",
     "output_type": "stream",
     "text": [
      "Message(id='msg_01RxKFxbmuVn9pBrb7GeRwo2', content=[TextBlock(citations=None, text='Okay, let me generate a Wikipedia reading list about the history of Hawaii:', type='text'), ToolUseBlock(id='toolu_01U8NPvAHQ7oSHiNyoSwd833', input={'article_titles': ['History of Hawaii', 'Kingdom of Hawaii', 'Annexation of Hawaii']}, name='wikipedia_reading_list_generator', type='tool_use')], model='claude-3-haiku-20240307', role='assistant', stop_reason='tool_use', stop_sequence=None, type='message', usage=Usage(cache_creation_input_tokens=0, cache_read_input_tokens=0, input_tokens=416, output_tokens=92, server_tool_use=None, service_tier='standard'))\n",
      "Claude generates tool use call\n",
      "Article titles: ['History of Hawaii', 'Kingdom of Hawaii', 'Annexation of Hawaii']\n"
     ]
    }
   ],
   "source": [
    "get_research_help(\"History of Hawaii\", 3)"
   ]
  },
  {
   "cell_type": "code",
   "execution_count": 17,
   "metadata": {},
   "outputs": [
    {
     "name": "stdout",
     "output_type": "stream",
     "text": [
      "Message(id='msg_01XQz1ymoz35BpFLSxPdKVVJ', content=[TextBlock(citations=None, text='Here is a Wikipedia reading list about whether animals are conscious:', type='text'), ToolUseBlock(id='toolu_01KUW1xsyNKAqCjhSTfuZihJ', input={'article_titles': ['animal consciousness', 'do animals have feelings', 'are animals self-aware']}, name='wikipedia_reading_list_generator', type='tool_use')], model='claude-3-haiku-20240307', role='assistant', stop_reason='tool_use', stop_sequence=None, type='message', usage=Usage(cache_creation_input_tokens=0, cache_read_input_tokens=0, input_tokens=417, output_tokens=88, server_tool_use=None, service_tier='standard'))\n",
      "Claude generates tool use call\n",
      "Article titles: ['animal consciousness', 'do animals have feelings', 'are animals self-aware']\n"
     ]
    },
    {
     "name": "stderr",
     "output_type": "stream",
     "text": [
      "/home/liyuan/miniforge3/envs/deepresearch/lib/python3.12/site-packages/wikipedia/wikipedia.py:389: GuessedAtParserWarning: No parser was explicitly specified, so I'm using the best available HTML parser for this system (\"lxml\"). This usually isn't a problem, but if you run this code on another system, or in a different virtual environment, it may use a different parser and behave differently.\n",
      "\n",
      "The code that caused this warning is on line 389 of the file /home/liyuan/miniforge3/envs/deepresearch/lib/python3.12/site-packages/wikipedia/wikipedia.py. To get rid of this warning, pass the additional argument 'features=\"lxml\"' to the BeautifulSoup constructor.\n",
      "\n",
      "  lis = BeautifulSoup(html).find_all('li')\n"
     ]
    }
   ],
   "source": [
    "get_research_help(\"are animals conscious?\", 3)"
   ]
  },
  {
   "cell_type": "code",
   "execution_count": null,
   "metadata": {},
   "outputs": [],
   "source": []
  }
 ],
 "metadata": {
  "kernelspec": {
   "display_name": "deepresearch",
   "language": "python",
   "name": "python3"
  },
  "language_info": {
   "codemirror_mode": {
    "name": "ipython",
    "version": 3
   },
   "file_extension": ".py",
   "mimetype": "text/x-python",
   "name": "python",
   "nbconvert_exporter": "python",
   "pygments_lexer": "ipython3",
   "version": "3.12.10"
  }
 },
 "nbformat": 4,
 "nbformat_minor": 2
}
