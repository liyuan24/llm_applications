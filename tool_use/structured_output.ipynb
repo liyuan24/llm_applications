{
 "cells": [
  {
   "cell_type": "markdown",
   "metadata": {},
   "source": [
    "# Excercise Overview\n",
    "\n",
    "This is from Anthropic's [structured output tutorial](https://github.com/anthropics/courses/blob/master/tool_use/03_structured_outputs.ipynb).\n",
    "\n",
    "Since tool use output will be structured output as Json, we can use the tool use call to generate the Json output.\n",
    "\n",
    "In this excercise, given an English sentence, we will generate the translation in Spanish, French, Chinese, and Arabic."
   ]
  },
  {
   "cell_type": "code",
   "execution_count": 2,
   "metadata": {},
   "outputs": [],
   "source": [
    "from anthropic import Anthropic\n",
    "import json\n",
    "client = Anthropic()"
   ]
  },
  {
   "cell_type": "code",
   "execution_count": 3,
   "metadata": {},
   "outputs": [],
   "source": [
    "print_translation = [\n",
    "    {\n",
    "        \"name\": \"print_translation\",\n",
    "        \"description\": \"Prints the translation of an English sentence into Spanish, French, Chinese, and Arabic.\",\n",
    "        \"input_schema\": {\n",
    "            \"type\": \"object\",\n",
    "            \"properties\": {\n",
    "                \"Spanish\": {\n",
    "                    \"type\": \"string\",\n",
    "                    \"description\": \"Translation in Spanish\",\n",
    "                },\n",
    "                \"French\": {\n",
    "                    \"type\": \"string\",\n",
    "                    \"description\": \"Translation in French\"\n",
    "                },\n",
    "                \"Chinese\": {\n",
    "                    \"type\": \"string\",\n",
    "                    \"description\": \"Translation in Chinese\",\n",
    "                },\n",
    "                \"Arabic\": {\n",
    "                    \"type\": \"string\",\n",
    "                    \"description\": \"Translation in Arabic\",\n",
    "                },\n",
    "            },\n",
    "            \"required\": [\"Spanish\",\"French\", \"Chinese\", \"Arabic\"]\n",
    "        }\n",
    "    }\n",
    "]"
   ]
  },
  {
   "cell_type": "code",
   "execution_count": 6,
   "metadata": {},
   "outputs": [],
   "source": [
    "def generate_translation(english_input):\n",
    "    query = f\"\"\"\n",
    "    <english_sentence>\n",
    "    {english_input}\n",
    "    </english_sentence>\n",
    "\n",
    "    Use the print_translation tool.\n",
    "    \"\"\"\n",
    "\n",
    "    response = client.messages.create(\n",
    "        model=\"claude-3-haiku-20240307\",\n",
    "        max_tokens=4096,\n",
    "        tools=print_translation,\n",
    "        messages=[{\"role\": \"user\", \"content\": query}]\n",
    "    )\n",
    "\n",
    "    json_translation = None\n",
    "    for content in response.content:\n",
    "        if content.type == \"tool_use\" and content.name == \"print_translation\":\n",
    "            json_translation = content.input\n",
    "            break\n",
    "\n",
    "    if json_translation:\n",
    "        print(\"Translation (JSON):\")\n",
    "        print(json.dumps(json_translation, ensure_ascii=False, indent=2))\n",
    "    else:\n",
    "        print(\"No translation found in the response.\")"
   ]
  },
  {
   "cell_type": "code",
   "execution_count": 7,
   "metadata": {},
   "outputs": [
    {
     "name": "stdout",
     "output_type": "stream",
     "text": [
      "Translation (JSON):\n",
      "{\n",
      "  \"Spanish\": \"¡Te amo tanto!\",\n",
      "  \"French\": \"Je t'aime tellement!\",\n",
      "  \"Chinese\": \"我爱你这么多!\",\n",
      "  \"Arabic\": \"أنا أحبك جدًا!\"\n",
      "}\n"
     ]
    }
   ],
   "source": [
    "generate_translation(\"I love you so much!\")"
   ]
  }
 ],
 "metadata": {
  "kernelspec": {
   "display_name": "deepresearch",
   "language": "python",
   "name": "python3"
  },
  "language_info": {
   "codemirror_mode": {
    "name": "ipython",
    "version": 3
   },
   "file_extension": ".py",
   "mimetype": "text/x-python",
   "name": "python",
   "nbconvert_exporter": "python",
   "pygments_lexer": "ipython3",
   "version": "3.12.10"
  }
 },
 "nbformat": 4,
 "nbformat_minor": 2
}
